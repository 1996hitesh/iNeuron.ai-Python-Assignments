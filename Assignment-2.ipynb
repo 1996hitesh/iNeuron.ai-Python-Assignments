{
 "cells": [
  {
   "cell_type": "markdown",
   "metadata": {},
   "source": [
    "# Session 2: Assignment 2"
   ]
  },
  {
   "cell_type": "markdown",
   "metadata": {},
   "source": [
    "# Task 1:\n",
    "1.1\n",
    "Write a Python Program to implement your own myreduce() function which works exactly like\n",
    "Python's built-in function reduce()"
   ]
  },
  {
   "cell_type": "code",
   "execution_count": 1,
   "metadata": {},
   "outputs": [
    {
     "name": "stdout",
     "output_type": "stream",
     "text": [
      "The result with myreduce:  28\n"
     ]
    }
   ],
   "source": [
    "def myreduce(fun,lst):\n",
    "    x = lst[0]      #first element of the list\n",
    "    for i in lst[1:]:\n",
    "        x = fun(x,i)\n",
    "    return x\n",
    "\n",
    "fun = lambda x,y: x+y\n",
    "mylist = [1,5,6,7,3,6]\n",
    "\n",
    "res = myreduce(fun,mylist)\n",
    "print(\"The result with myreduce(): \",res)"
   ]
  },
  {
   "cell_type": "markdown",
   "metadata": {},
   "source": [
    "1.2\n",
    "Write a Python program to implement your own myfilter() function which works exactly like\n",
    "Python's built-in function filter()"
   ]
  },
  {
   "cell_type": "code",
   "execution_count": 4,
   "metadata": {},
   "outputs": [
    {
     "name": "stdout",
     "output_type": "stream",
     "text": [
      "The result with myfilter():  [6, 6]\n"
     ]
    }
   ],
   "source": [
    "def myfilter(fun,lst):\n",
    "    res = []\n",
    "    for i in lst:\n",
    "        if fun(i):\n",
    "            res.append(i)\n",
    "    return res\n",
    "    \n",
    "fun = lambda x: x%2==0\n",
    "lst = [1,5,6,7,3,6]\n",
    "\n",
    "ans = myfilter(fun,lst)\n",
    "print(\"The result with myfilter(): \",ans)"
   ]
  },
  {
   "cell_type": "markdown",
   "metadata": {},
   "source": [
    "2.\n",
    "Implement List comprehensions to produce the following lists.\n",
    "Write List comprehensions to produce the following Lists\n",
    "['A', 'C', 'A', 'D', 'G', 'I', ’L’, ‘ D’]\n",
    "['x', 'xx', 'xxx', 'xxxx', 'y', 'yy', 'yyy', 'yyyy', 'z', 'zz', 'zzz', 'zzzz']\n",
    "['x', 'y', 'z', 'xx', 'yy', 'zz', 'xx', 'yy', 'zz', 'xxxx', 'yyyy', 'zzzz']\n",
    "[[2], [3], [4], [3], [4], [5], [4], [5], [6]]\n",
    "[[2, 3, 4, 5], [3, 4, 5, 6], [4, 5, 6, 7], [5, 6, 7, 8]]\n",
    "[(1, 1), (2, 1), (3, 1), (1, 2), (2, 2), (3, 2), (1, 3), (2, 3), (3, 3)]"
   ]
  },
  {
   "cell_type": "code",
   "execution_count": 13,
   "metadata": {},
   "outputs": [
    {
     "name": "stdout",
     "output_type": "stream",
     "text": [
      "['A', 'C', 'A', 'D', 'G', 'I', 'L', 'D']\n",
      "['x', 'xx', 'xxx', 'xxxx', 'y', 'yy', 'yyy', 'yyyy', 'z', 'zz', 'zzz', 'zzzz']\n",
      "['x', 'y', 'z', 'xx', 'yy', 'zz', 'xxx', 'yyy', 'zzz', 'xxxx', 'yyyy', 'zzzz']\n",
      "[[2], [3], [4], [3], [4], [5], [4], [5], [6]]\n",
      "[[2, 3, 4, 5], [3, 4, 5, 6], [4, 5, 6, 7], [5, 6, 7, 8]]\n",
      "[(1, 1), (2, 1), (3, 1), (1, 2), (2, 2), (3, 2), (1, 3), (2, 3), (3, 3)]\n"
     ]
    }
   ],
   "source": [
    "print([i for i in \"ACADGILD\"])\n",
    "print([i*x for i in 'xyz' for x in range(1,5)])\n",
    "print([i*j for i in range(1,5) for j in 'xyz'])\n",
    "print([[i+j] for i in range(2,5) for j in range(3)])\n",
    "print([[i+j for i in range(2,6)] for j in range(4)])\n",
    "print([(j,i) for i in range(1,4) for j in range(1,4)])"
   ]
  },
  {
   "cell_type": "markdown",
   "metadata": {},
   "source": [
    "3.\n",
    "Implement a function longestWord() that takes a list of words and returns the longest one."
   ]
  },
  {
   "cell_type": "code",
   "execution_count": 16,
   "metadata": {},
   "outputs": [
    {
     "name": "stdout",
     "output_type": "stream",
     "text": [
      "intelligence\n"
     ]
    }
   ],
   "source": [
    "def longestWord(lst):\n",
    "    longest = len(lst[0])\n",
    "    longest_word = lst[0]\n",
    "    for word in lst[1:]:\n",
    "        if len(word) > longest:\n",
    "            longest = len(word)\n",
    "            longest_word = word\n",
    "    return longest_word\n",
    "\n",
    "lst = ['My','intelligence','is','not','greatest']\n",
    "w = longestWord(lst)\n",
    "print(w)"
   ]
  },
  {
   "cell_type": "markdown",
   "metadata": {},
   "source": [
    "# Task 2:\n",
    "1.1\n",
    "Write a Python Program(with class concepts) to find the area of the triangle using the below\n",
    "formula.\n",
    "area = (s*(s-a)*(s-b)*(s-c)) ** 0.5\n",
    "Function to take the length of the sides of triangle from user should be defined in the parent\n",
    "class and function to calculate the area should be defined in subclass"
   ]
  },
  {
   "cell_type": "code",
   "execution_count": 28,
   "metadata": {},
   "outputs": [
    {
     "name": "stdout",
     "output_type": "stream",
     "text": [
      "The area of traingle is 43.30\n"
     ]
    }
   ],
   "source": [
    "class Triangle:\n",
    "    def __init__(self,a,b,c):\n",
    "        self.a = a\n",
    "        self.b = b\n",
    "        self.c = c\n",
    "class Area(Triangle):\n",
    "    def area(self):\n",
    "        s=(self.a+self.b+self.c)/2\n",
    "        area = (s*(s-self.a)*(s-self.b)*(s-self.c))**0.5    \n",
    "        return area\n",
    "\n",
    "sides = Area(10,10,10)\n",
    "result = sides.area()\n",
    "print(f'The area of traingle is {result:.2f}')\n",
    "        "
   ]
  },
  {
   "cell_type": "markdown",
   "metadata": {},
   "source": [
    "1.2\n",
    "Write a function filter_long_words() that takes a list of words and an integer n and returns the list\n",
    "of words that are longer than n."
   ]
  },
  {
   "cell_type": "code",
   "execution_count": 18,
   "metadata": {},
   "outputs": [
    {
     "name": "stdout",
     "output_type": "stream",
     "text": [
      "['intelligence', 'not', 'greatest']\n"
     ]
    }
   ],
   "source": [
    "#Using for loop\n",
    "def filter_long_words(lst,n):\n",
    "    wo_lst = []\n",
    "    for word in lst:\n",
    "        if len(word) > n:\n",
    "            wo_lst.append(word)\n",
    "    return wo_lst\n",
    "\n",
    "#using list comprehension\n",
    "def filter_long_words1(lst,n):\n",
    "    wo_lst = [word for word in lst if len(word)>n]\n",
    "    return wo_lst\n",
    "\n",
    "\n",
    "lst = ['My','intelligence','is','not','greatest']\n",
    "ans = filter_long_words1(lst,2)\n",
    "print(ans)"
   ]
  },
  {
   "cell_type": "markdown",
   "metadata": {},
   "source": [
    "2.1\n",
    "Write a Python program using function concept that maps list of words into a list of integers\n",
    "representing the lengths of the corresponding words .\n",
    "Hint: If a list [ ab,cde,erty] is passed on to the python function output should come as [2,3,4]\n",
    "Here 2,3 and 4 are the lengths of the words in the list."
   ]
  },
  {
   "cell_type": "code",
   "execution_count": 21,
   "metadata": {},
   "outputs": [
    {
     "name": "stdout",
     "output_type": "stream",
     "text": [
      "[2, 12, 2, 3, 8]\n"
     ]
    }
   ],
   "source": [
    "def length(lst):\n",
    "    result = map(lambda x: len(x), lst) \n",
    "    print(list(result)) \n",
    "    \n",
    "lst = ['My','intelligence','is','not','greatest']\n",
    "length(lst)"
   ]
  },
  {
   "cell_type": "markdown",
   "metadata": {},
   "source": [
    "2.2\n",
    "Write a Python function which takes a character (i.e. a string of length 1) and returns True if it is\n",
    "a vowel, False otherwise."
   ]
  },
  {
   "cell_type": "code",
   "execution_count": 26,
   "metadata": {},
   "outputs": [
    {
     "data": {
      "text/plain": [
       "False"
      ]
     },
     "execution_count": 26,
     "metadata": {},
     "output_type": "execute_result"
    }
   ],
   "source": [
    "def isVowel(s):\n",
    "    vo_list = ['a','e','i','o','u']\n",
    "    if s.lower() in vo_list:\n",
    "        return True\n",
    "    else:\n",
    "        return False\n",
    "    \n",
    "isVowel('B')"
   ]
  },
  {
   "cell_type": "code",
   "execution_count": null,
   "metadata": {},
   "outputs": [],
   "source": []
  },
  {
   "cell_type": "code",
   "execution_count": null,
   "metadata": {},
   "outputs": [],
   "source": []
  }
 ],
 "metadata": {
  "kernelspec": {
   "display_name": "Python 3",
   "language": "python",
   "name": "python3"
  },
  "language_info": {
   "codemirror_mode": {
    "name": "ipython",
    "version": 3
   },
   "file_extension": ".py",
   "mimetype": "text/x-python",
   "name": "python",
   "nbconvert_exporter": "python",
   "pygments_lexer": "ipython3",
   "version": "3.7.3"
  }
 },
 "nbformat": 4,
 "nbformat_minor": 2
}
